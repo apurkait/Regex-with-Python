{
 "cells": [
  {
   "cell_type": "code",
   "execution_count": 1,
   "metadata": {},
   "outputs": [],
   "source": [
    "import re"
   ]
  },
  {
   "cell_type": "code",
   "execution_count": 2,
   "metadata": {},
   "outputs": [],
   "source": [
    "with open(r'phone.txt') as f:\n",
    "    string = f.read()"
   ]
  },
  {
   "cell_type": "code",
   "execution_count": 3,
   "metadata": {},
   "outputs": [
    {
     "data": {
      "text/plain": [
       "'Zion Martinez\\t(631) 472-4834\\nMoriah Velez\\t(201) 684-8134\\nJenna Peterson\\t(355) 554-9561\\nAyaan Novak\\t(812) 883-7304\\nElena Sosa\\t(504) 478-1208\\nTaniyah Lucas\\t(949) 304-4647\\nMaritza Ramos\\t(295) 931-1193\\nMaryjane Velazquez\\t(409) 441-2612\\nOliver Cooper\\t(917) 965-9749\\nMax Bridges\\t(665) 245-0683\\nCraig Sutton\\t(783) 281-6115\\nEmilie Good\\t(608) 628-4088\\nAlexis Rowe\\t(357) 540-2991\\nMaxwell Rose\\t(366) 809-5605\\nDavin Carroll\\t(508) 291-1622\\nRiya Foster\\t(461) 532-0795\\nKymani Pena\\t(366) 683-3252\\nJosie Lloyd\\t(676) 509-5720\\nAmy Fowler\\t(630) 821-5787\\nZion Strickland\\t(443) 372-0040\\nJermaine Roy\\t(576) 876-2490\\nSasha Duncan\\t(379) 596-5662\\nGuillermo Pacheco\\t(922) 634-5795\\nMohammad Tapia\\t(969) 831-7093\\nSamir Mcdonald\\t(546) 420-0881\\nSidney Mcdaniel\\t(783) 705-9254\\nCameron Terry\\t(540) 878-9323\\nKyla Waters\\t(319) 523-8400\\nPaloma Tyler\\t(709) 788-9820\\nCarolyn Peck\\t(878) 309-5141\\nAliana Murillo\\t(681) 897-9813\\nHarold Stark\\t(995) 575-6794\\nTomas Acevedo\\t(526) 889-3684\\nJayla Whitney\\t(790) 295-4491\\nLinda Casey\\t(596) 279-2188\\nShelby Gutierrez\\t(266) 441-0506\\nScarlett Pugh\\t(205) 887-2552\\nTobias Joseph\\t(894) 486-4422\\nMeadow Pennington\\t(789) 483-7632\\nJeremy Tucker\\t(768) 454-3347\\nGiovani Hill\\t(859) 512-3285\\nLorelei Chase\\t(527) 510-6364\\nAnabella Wolf\\t(370) 917-1457\\nDominick Cobb\\t(831) 874-8695\\nIsmael Montoya\\t(397) 258-5867\\nCharles Santiago\\t(804) 306-7622\\nEva Galvan\\t(836) 732-4963\\nBranden Cantu\\t(862) 408-5783\\nPatricia Dodson\\t(685) 849-8192\\nMarina Chan\\t(600) 464-2106\\n'"
      ]
     },
     "execution_count": 3,
     "metadata": {},
     "output_type": "execute_result"
    }
   ],
   "source": [
    "string"
   ]
  },
  {
   "cell_type": "markdown",
   "metadata": {},
   "source": [
    "#### Last name and phone no. of all the persons having area code ends with zero"
   ]
  },
  {
   "cell_type": "code",
   "execution_count": 6,
   "metadata": {},
   "outputs": [
    {
     "data": {
      "text/plain": [
       "[('Fowler', '821-5787'),\n",
       " ('Terry', '878-9323'),\n",
       " ('Whitney', '295-4491'),\n",
       " ('Wolf', '917-1457'),\n",
       " ('Chan', '464-2106')]"
      ]
     },
     "execution_count": 6,
     "metadata": {},
     "output_type": "execute_result"
    }
   ],
   "source": [
    "result = re.findall(r\".+? (.+?)\\t\\(\\d+0\\) (\\d+-\\d+)\", string)\n",
    "result"
   ]
  },
  {
   "cell_type": "markdown",
   "metadata": {},
   "source": [
    "#### Area code of each phone no. that ends with 7"
   ]
  },
  {
   "cell_type": "code",
   "execution_count": 17,
   "metadata": {},
   "outputs": [
    {
     "data": {
      "text/plain": [
       "['(949)', '(630)', '(768)', '(370)', '(397)']"
      ]
     },
     "execution_count": 17,
     "metadata": {},
     "output_type": "execute_result"
    }
   ],
   "source": [
    "result = re.findall(r\".+?\\t(\\(\\d+\\)) .+?7$\", string, flags=re.M)\n",
    "result"
   ]
  },
  {
   "cell_type": "markdown",
   "metadata": {},
   "source": [
    "#### First and Last name of all the persons whose phone no. starts with an odd digit"
   ]
  },
  {
   "cell_type": "code",
   "execution_count": 20,
   "metadata": {},
   "outputs": [
    {
     "data": {
      "text/plain": [
       "['Jenna Peterson',\n",
       " 'Taniyah Lucas',\n",
       " 'Maritza Ramos',\n",
       " 'Oliver Cooper',\n",
       " 'Alexis Rowe',\n",
       " 'Riya Foster',\n",
       " 'Josie Lloyd',\n",
       " 'Zion Strickland',\n",
       " 'Sasha Duncan',\n",
       " 'Sidney Mcdaniel',\n",
       " 'Kyla Waters',\n",
       " 'Paloma Tyler',\n",
       " 'Carolyn Peck',\n",
       " 'Harold Stark',\n",
       " 'Giovani Hill',\n",
       " 'Lorelei Chase',\n",
       " 'Anabella Wolf',\n",
       " 'Charles Santiago',\n",
       " 'Eva Galvan']"
      ]
     },
     "execution_count": 20,
     "metadata": {},
     "output_type": "execute_result"
    }
   ],
   "source": [
    "result = re.findall(r\"(.+? .+?)\\t.+? [13579].+?\", string)\n",
    "result"
   ]
  },
  {
   "cell_type": "markdown",
   "metadata": {},
   "source": [
    "#### First name of all the persons whose area code is a number less than 300"
   ]
  },
  {
   "cell_type": "code",
   "execution_count": 25,
   "metadata": {},
   "outputs": [
    {
     "data": {
      "text/plain": [
       "['Moriah', 'Maritza', 'Shelby', 'Scarlett']"
      ]
     },
     "execution_count": 25,
     "metadata": {},
     "output_type": "execute_result"
    }
   ],
   "source": [
    "result = re.findall(r\"(.+?) .+?\\t\\([0-2][0-9][0-9]\\) .+?\", string)\n",
    "result"
   ]
  },
  {
   "cell_type": "markdown",
   "metadata": {},
   "source": [
    "#### First name of all the persons whose last name ends with a vowel and phone no. ends in either 0,7 or 9"
   ]
  },
  {
   "cell_type": "code",
   "execution_count": 32,
   "metadata": {},
   "outputs": [
    {
     "data": {
      "text/plain": [
       "['Ismael']"
      ]
     },
     "execution_count": 32,
     "metadata": {},
     "output_type": "execute_result"
    }
   ],
   "source": [
    "result = re.findall(r\"(.+?) .+?[aeiou]\\t.+? .+?[079]$\", string, flags=re.M)\n",
    "result"
   ]
  },
  {
   "cell_type": "code",
   "execution_count": null,
   "metadata": {},
   "outputs": [],
   "source": []
  }
 ],
 "metadata": {
  "kernelspec": {
   "display_name": "Python [conda env:mlEnv]",
   "language": "python",
   "name": "conda-env-mlEnv-py"
  },
  "language_info": {
   "codemirror_mode": {
    "name": "ipython",
    "version": 3
   },
   "file_extension": ".py",
   "mimetype": "text/x-python",
   "name": "python",
   "nbconvert_exporter": "python",
   "pygments_lexer": "ipython3",
   "version": "3.8.5"
  }
 },
 "nbformat": 4,
 "nbformat_minor": 4
}
