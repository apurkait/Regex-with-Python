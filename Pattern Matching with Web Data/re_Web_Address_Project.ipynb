{
 "cells": [
  {
   "cell_type": "code",
   "execution_count": 1,
   "metadata": {},
   "outputs": [],
   "source": [
    "import re"
   ]
  },
  {
   "cell_type": "code",
   "execution_count": 6,
   "metadata": {},
   "outputs": [],
   "source": [
    "with open(r'web.txt') as f:\n",
    "    string = f.read()"
   ]
  },
  {
   "cell_type": "code",
   "execution_count": 7,
   "metadata": {},
   "outputs": [
    {
     "data": {
      "text/plain": [
       "'Site\\tDomain\\tAlexa top 50 global sites\\tSimilarWeb top 50 sites\\tType\\tPrincipal country/territory\\nGoogle\\thttps://google.com\\t1 (Steady)\\t1 (Steady)\\tInternet services and products\\tUnited States U.S.\\nYouTube\\thttps://youtube.com\\t2 (Steady)\\t2 (Increase1)\\tVideo sharing\\tUnited States U.S.\\nTmall\\thttps://tmall.com\\t3 (Steady)\\t82 (Steady)\\tOnline shopping\\tChina China\\nFacebook\\thttps://facebook.com\\t4 (Increase3)\\t3 (Decrease1)\\tSocial networking\\tUnited States U.S.\\nBaidu\\thttps://baidu.com\\t5 (Decrease1)\\t4 (Increase11)\\tInternet-related services and products\\tChina China\\nTencent QQ\\thttps://qq.com\\t6 (Decrease1)\\t20 (Increase18)\\tPortal\\tChina China\\nSohu\\thttps://sohu.com\\t7 (Decrease1)\\t79 (Increase125)\\tPortal\\tChina China\\nTmall\\thttps://login.tmall.com\\t8 (Increase1)\\tN/A[note 1]\\tOnline shopping\\tChina China\\nTaobao\\thttps://taobao.com\\t9 (Decrease1)\\t42 (Increase9)\\tOnline shopping\\tChina China\\nHaosou\\thttps://360.cn\\t10 (Increase2)\\t219 (Decrease134)\\tInternet security and web search engine\\tChina China\\nYahoo!\\thttps://yahoo.com\\t11 (Steady)\\t9 (Decrease5)\\tPortal and media\\tUnited States U.S.\\nJingdong Mall\\thttps://jd.com\\t12 (Increase2)\\t99\\tE-commerce\\tChina China\\nWikipedia\\thttps://wikipedia.org\\t13 (Decrease3)\\t10 (Decrease5)\\tEncyclopedia\\tUnited States U.S.\\nAmazon\\thttps://mazon.com\\t14 (Decrease1)\\t13 (Increase8)\\tE-commerce and cloud computing\\tUnited States U.S.\\nSina Corp\\thttps://sina.com.cn\\t15 (Increase1)\\t157 (Decrease47)\\tPortal and instant messaging\\tChina China\\nSina Weibo\\thttps://weibo.com\\t16 (Decrease1)\\t128 (Decrease32)\\tSocial networking\\tChina China\\nTmall\\thttps://pages.tmall.com\\t17 (Increase1)\\tN/A[note 1]\\tOnline shopping\\tChina China\\nWindows Live\\thttps://live.com\\t18 (Decrease1)\\t15 (Decrease8)\\tSoftware plus services\\tUnited States U.S.\\nReddit\\thttps://reddit.com\\t19 (Steady)\\t17 (Increase14)\\tSocial news and entertainment\\tUnited States U.S.\\nNetflix\\thttps://netflix.com\\t20 (Increase1)\\t19 (Increase5)\\tStreaming TV and movies\\tUnited States U.S.\\nZoom Video Communications\\thttps://zoom.us\\t21 (N/A)\\t[data unknown/missing]\\tVideotelephony\\tUnited States U.S.\\nXinhua News Agency\\thttps://xinhuanet.com\\t22 (Increase9)\\t4,150\\tNews\\tChina China\\nOkezone\\thttps://Okezone.com\\t23 (Increase4)\\t3,102\\tPortal\\tIndonesia Indonesia\\nBlogspot\\thttps://blogspot.com\\t24 (Increase2)\\t236,937\\tBlogging\\tUnited States U.S.\\nMicrosoft Office\\thttps://office.com\\t25 (Increase5)\\t35 (Increase5)\\tOnline office suite\\tUnited States U.S.\\nMicrosoft\\thttps://microsoft.com\\t26 (Increase8)\\t44 (Increase4)\\tSoftware and technology\\tUnited States U.S.\\nVK\\thttps://vk.com\\t27 (Decrease7)\\t12 (Increase2)\\tSocial networking\\tRussia Russia\\nCSDN\\thttps://csdn.net\\t28 (Decrease4)\\t209\\tTechnology news and Internet forum\\tChina China\\nInstagram\\thttps://instagram.com\\t29 (Decrease1)\\t5 (Increase13)\\tPhoto sharing and social media\\tUnited States U.S.\\nAlipay\\thttps://alipay.com\\t30 (Decrease7)\\t262\\tPayment system\\tChina China\\nYahoo! Japan https://yahoo.co.jp\\t31 (Decrease5)\\t23 (Increase4)\\tPortal\\tJapan Japan\\nTwitch\\thttps://Twitch.tv\\t32 (Increase5)\\t38 (Increase34)\\tStreaming primarily on video games\\tUnited States U.S.\\nBing\\thttps://bing.com\\t33 (Decrease8)\\t25 (Increase21)\\tWeb search engine\\tUnited States U.S.\\n\\n(Based on data provided by Wikipedia at en.wikipedia.org/wiki/List_of_most_popular_websites)'"
      ]
     },
     "execution_count": 7,
     "metadata": {},
     "output_type": "execute_result"
    }
   ],
   "source": [
    "string"
   ]
  },
  {
   "cell_type": "markdown",
   "metadata": {},
   "source": [
    "#### All urls which are of 'Online shopping' type"
   ]
  },
  {
   "cell_type": "code",
   "execution_count": 11,
   "metadata": {},
   "outputs": [
    {
     "data": {
      "text/plain": [
       "['https://tmall.com',\n",
       " 'https://login.tmall.com',\n",
       " 'https://taobao.com',\n",
       " 'https://pages.tmall.com']"
      ]
     },
     "execution_count": 11,
     "metadata": {},
     "output_type": "execute_result"
    }
   ],
   "source": [
    "result = re.findall(r\".+\\t(.+?)\\t.+\\t.+\\tOnline shopping\\t.+\", string)\n",
    "result"
   ]
  },
  {
   "cell_type": "markdown",
   "metadata": {},
   "source": [
    "#### Site name of all the websites that are based in China and have a 3-letter url extension(.com, .org etc.)"
   ]
  },
  {
   "cell_type": "code",
   "execution_count": 23,
   "metadata": {},
   "outputs": [
    {
     "data": {
      "text/plain": [
       "['Tmall',\n",
       " 'Baidu',\n",
       " 'Tencent QQ',\n",
       " 'Sohu',\n",
       " 'Tmall',\n",
       " 'Taobao',\n",
       " 'Jingdong Mall',\n",
       " 'Sina Weibo',\n",
       " 'Tmall',\n",
       " 'Xinhua News Agency',\n",
       " 'CSDN',\n",
       " 'Alipay']"
      ]
     },
     "execution_count": 23,
     "metadata": {},
     "output_type": "execute_result"
    }
   ],
   "source": [
    "result = re.findall(r\"(.+)\\t+.+\\.\\w{3}\\t\\d{1,}.+\\t.+\\t.+\\tChina.+\", string)\n",
    "result"
   ]
  },
  {
   "cell_type": "markdown",
   "metadata": {},
   "source": [
    "#### URL and country of all social networking sites whose domain name(excluding the extension) is less than 5 characters long"
   ]
  },
  {
   "cell_type": "code",
   "execution_count": 30,
   "metadata": {},
   "outputs": [
    {
     "data": {
      "text/plain": [
       "[('https://vk.com', 'Russia')]"
      ]
     },
     "execution_count": 30,
     "metadata": {},
     "output_type": "execute_result"
    }
   ],
   "source": [
    "result = re.findall(r\".+\\t(.+://\\w{1,4}\\..+)\\t\\d{1,}.+\\t.+\\tSocial networking\\t.+ (.+)\", string)\n",
    "result"
   ]
  },
  {
   "cell_type": "markdown",
   "metadata": {},
   "source": [
    "#### Site name and web protocol of all the websites whose URLs contain subdomains(e.g. http://something.website.abc)"
   ]
  },
  {
   "cell_type": "code",
   "execution_count": 39,
   "metadata": {},
   "outputs": [
    {
     "data": {
      "text/plain": [
       "[('Tmall', 'https'),\n",
       " ('Sina Corp', 'https'),\n",
       " ('Tmall', 'https'),\n",
       " ('Yahoo! Japan', 'https')]"
      ]
     },
     "execution_count": 39,
     "metadata": {},
     "output_type": "execute_result"
    }
   ],
   "source": [
    "result = re.findall(r\"(.+)\\s+(http.*)://\\w{1,}\\.\\w{1,}\\..+\\t.+\", string)\n",
    "result"
   ]
  },
  {
   "cell_type": "code",
   "execution_count": null,
   "metadata": {},
   "outputs": [],
   "source": []
  }
 ],
 "metadata": {
  "kernelspec": {
   "display_name": "Python [conda env:mlEnv]",
   "language": "python",
   "name": "conda-env-mlEnv-py"
  },
  "language_info": {
   "codemirror_mode": {
    "name": "ipython",
    "version": 3
   },
   "file_extension": ".py",
   "mimetype": "text/x-python",
   "name": "python",
   "nbconvert_exporter": "python",
   "pygments_lexer": "ipython3",
   "version": "3.8.5"
  }
 },
 "nbformat": 4,
 "nbformat_minor": 4
}
