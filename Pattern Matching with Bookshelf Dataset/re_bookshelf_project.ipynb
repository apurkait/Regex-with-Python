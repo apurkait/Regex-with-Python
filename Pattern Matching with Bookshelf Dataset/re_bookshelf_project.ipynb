{
 "cells": [
  {
   "cell_type": "code",
   "execution_count": 1,
   "metadata": {},
   "outputs": [],
   "source": [
    "import re"
   ]
  },
  {
   "cell_type": "code",
   "execution_count": 5,
   "metadata": {},
   "outputs": [],
   "source": [
    "with open(r'bookshelf.txt') as f:\n",
    "    string = f.read()"
   ]
  },
  {
   "cell_type": "code",
   "execution_count": 40,
   "metadata": {},
   "outputs": [
    {
     "data": {
      "text/plain": [
       "\"Terry-Thomas;Filling the Gap;1959\\nHarpo Marx;Harpo Speaks;1961\\nCharlie Chaplin;My Autobiography;1964\\nMoe Howard;Moe Howard and the Three Stooges, AKA I Came, I Stooged, I Conquered (released posthumously);1974\\nSid Caesar;Where Have I Been?;1982\\nBill Cosby;Fatherhood;1986\\nMel Blanc;That's NOT All, Folks;1988\\nGilda Radner;It's Always Something;1989\\nRichard Pryor;Pryor Convictions;1995\\nDamon Wayans;Bootleg;1996\\nStephen Fry;Moab Is My Washpot;1997\\nJenny McCarthy;Jen-X: My Open Book;1997\\nChris Rock;Rock This;1997\\nSandra Bernhard;Confessions of a Pretty Lady;1998\\nDanny Bonaduce;Random Acts of Badness;2001\\nFran Drescher;Cancer Schmancer;2002\\nAlan Thicke;How Men Have Babies: a New Father's Survival Guide;2003\\nRodney Dangerfield;It's Not Easy Being Me: a Lifetime of No Respect But Plenty of Sex and Drugs;2004\\nTom Green;Hollywood Causes Cancer;2004\\nRik Mayall;Bigger Than Hitler & Better Than Christ;2005\\nTommy Chong;The I Chong: Meditations From the Joint;2006\\nAlan Thicke;How to Raise Kids Who Won't Hate You;2006\\nSteve Martin;Born Standing Up;2007\\nDenis Leary;Why We Suck;2008\\nStephen Fry;Ernie: The Autobiography;2009\\nFrankie Boyle;My Shit Life So Far;2009\\nCraig Ferguson;American on Purpose;2009\\nTodd Bridges;Killing Willis;2010\\nKevin Smith;Tough Sh*t: Life Advice from a Fat, Lazy Slob Who Still Made Good;2012\\nJimmie Walker;Dyn-o-mite!;2012\\nAndrew Dice Clay;The Filthy Truth;2014\\nJohn Cleese;So, Anyway...;2014\\nCheech Marin;Cheech Is Not My Real Name...But Don't Call Me Chong!;2017\\nEric Idle;Always Look On the Bright Side Of Life;2018\""
      ]
     },
     "execution_count": 40,
     "metadata": {},
     "output_type": "execute_result"
    }
   ],
   "source": [
    "string"
   ]
  },
  {
   "cell_type": "markdown",
   "metadata": {},
   "source": [
    "#### All the book titles of length less than 26"
   ]
  },
  {
   "cell_type": "code",
   "execution_count": 19,
   "metadata": {
    "scrolled": false
   },
   "outputs": [
    {
     "data": {
      "text/plain": [
       "['Filling the Gap',\n",
       " 'Harpo Speaks',\n",
       " 'My Autobiography',\n",
       " 'Where Have I Been?',\n",
       " 'Fatherhood',\n",
       " \"That's NOT All, Folks\",\n",
       " \"It's Always Something\",\n",
       " 'Pryor Convictions',\n",
       " 'Bootleg',\n",
       " 'Moab Is My Washpot',\n",
       " 'Jen-X: My Open Book',\n",
       " 'Rock This',\n",
       " 'Random Acts of Badness',\n",
       " 'Cancer Schmancer',\n",
       " 'Hollywood Causes Cancer',\n",
       " 'Born Standing Up',\n",
       " 'Why We Suck',\n",
       " 'Ernie: The Autobiography',\n",
       " 'My Shit Life So Far',\n",
       " 'American on Purpose',\n",
       " 'Killing Willis',\n",
       " 'Dyn-o-mite!',\n",
       " 'The Filthy Truth',\n",
       " 'So, Anyway...']"
      ]
     },
     "execution_count": 19,
     "metadata": {},
     "output_type": "execute_result"
    }
   ],
   "source": [
    "result = re.findall(r\".+?;(.{1,25});.+?\", string)\n",
    "result"
   ]
  },
  {
   "cell_type": "markdown",
   "metadata": {},
   "source": [
    "#### All the authors with book title length less than or equal to 25"
   ]
  },
  {
   "cell_type": "code",
   "execution_count": 26,
   "metadata": {
    "scrolled": false
   },
   "outputs": [
    {
     "data": {
      "text/plain": [
       "['Terry-Thomas',\n",
       " 'Harpo Marx',\n",
       " 'Charlie Chaplin',\n",
       " 'Sid Caesar',\n",
       " 'Bill Cosby',\n",
       " 'Mel Blanc',\n",
       " 'Gilda Radner',\n",
       " 'Richard Pryor',\n",
       " 'Damon Wayans',\n",
       " 'Stephen Fry',\n",
       " 'Jenny McCarthy',\n",
       " 'Chris Rock',\n",
       " 'Danny Bonaduce',\n",
       " 'Fran Drescher',\n",
       " 'Tom Green',\n",
       " 'Steve Martin',\n",
       " 'Denis Leary',\n",
       " 'Stephen Fry',\n",
       " 'Frankie Boyle',\n",
       " 'Craig Ferguson',\n",
       " 'Todd Bridges',\n",
       " 'Jimmie Walker',\n",
       " 'Andrew Dice Clay',\n",
       " 'John Cleese']"
      ]
     },
     "execution_count": 26,
     "metadata": {},
     "output_type": "execute_result"
    }
   ],
   "source": [
    "result = re.findall(r\"([\\w -]+);.{1,25};.+?\", string)\n",
    "result"
   ]
  },
  {
   "cell_type": "markdown",
   "metadata": {},
   "source": [
    "#### List all the authors who published books starting from 2000"
   ]
  },
  {
   "cell_type": "code",
   "execution_count": 30,
   "metadata": {
    "scrolled": true
   },
   "outputs": [
    {
     "data": {
      "text/plain": [
       "['Danny Bonaduce',\n",
       " 'Fran Drescher',\n",
       " 'Alan Thicke',\n",
       " 'Rodney Dangerfield',\n",
       " 'Tom Green',\n",
       " 'Rik Mayall',\n",
       " 'Tommy Chong',\n",
       " 'Alan Thicke',\n",
       " 'Steve Martin',\n",
       " 'Denis Leary',\n",
       " 'Stephen Fry',\n",
       " 'Frankie Boyle',\n",
       " 'Craig Ferguson',\n",
       " 'Todd Bridges',\n",
       " 'Kevin Smith',\n",
       " 'Jimmie Walker',\n",
       " 'Andrew Dice Clay',\n",
       " 'John Cleese',\n",
       " 'Cheech Marin',\n",
       " 'Eric Idle']"
      ]
     },
     "execution_count": 30,
     "metadata": {},
     "output_type": "execute_result"
    }
   ],
   "source": [
    "result = re.findall(r\"(.+?);.+?;2\\d\\d\\d\", string)\n",
    "result"
   ]
  },
  {
   "cell_type": "markdown",
   "metadata": {},
   "source": [
    "#### All book titles that end with letter 'p'"
   ]
  },
  {
   "cell_type": "code",
   "execution_count": 63,
   "metadata": {},
   "outputs": [
    {
     "data": {
      "text/plain": [
       "['Filling the Gap', 'Born Standing Up']"
      ]
     },
     "execution_count": 63,
     "metadata": {},
     "output_type": "execute_result"
    }
   ],
   "source": [
    "result = re.findall(r\".+?;(.+?p);.+?\", string)\n",
    "result"
   ]
  },
  {
   "cell_type": "markdown",
   "metadata": {},
   "source": [
    "#### All author surnames starting with 'B'"
   ]
  },
  {
   "cell_type": "code",
   "execution_count": 64,
   "metadata": {},
   "outputs": [
    {
     "data": {
      "text/plain": [
       "['Blanc', 'Bernhard', 'Bonaduce', 'Boyle', 'Bridges']"
      ]
     },
     "execution_count": 64,
     "metadata": {},
     "output_type": "execute_result"
    }
   ],
   "source": [
    "result = re.findall(r\"\\w+[ -](B.+?);.+?;.+?\", string)\n",
    "result"
   ]
  },
  {
   "cell_type": "markdown",
   "metadata": {},
   "source": [
    "#### All book titles which are published between 1980 and 1999 (both years included)"
   ]
  },
  {
   "cell_type": "code",
   "execution_count": 58,
   "metadata": {
    "scrolled": true
   },
   "outputs": [
    {
     "data": {
      "text/plain": [
       "['Where Have I Been?',\n",
       " 'Fatherhood',\n",
       " \"That's NOT All, Folks\",\n",
       " \"It's Always Something\",\n",
       " 'Pryor Convictions',\n",
       " 'Bootleg',\n",
       " 'Moab Is My Washpot',\n",
       " 'Jen-X: My Open Book',\n",
       " 'Rock This',\n",
       " 'Confessions of a Pretty Lady']"
      ]
     },
     "execution_count": 58,
     "metadata": {},
     "output_type": "execute_result"
    }
   ],
   "source": [
    "result = re.findall(r\".+?;(.+?);19[89]\\d\", string)\n",
    "result"
   ]
  },
  {
   "cell_type": "code",
   "execution_count": null,
   "metadata": {},
   "outputs": [],
   "source": []
  }
 ],
 "metadata": {
  "kernelspec": {
   "display_name": "Python [conda env:mlEnv]",
   "language": "python",
   "name": "conda-env-mlEnv-py"
  },
  "language_info": {
   "codemirror_mode": {
    "name": "ipython",
    "version": 3
   },
   "file_extension": ".py",
   "mimetype": "text/x-python",
   "name": "python",
   "nbconvert_exporter": "python",
   "pygments_lexer": "ipython3",
   "version": "3.8.5"
  }
 },
 "nbformat": 4,
 "nbformat_minor": 4
}
