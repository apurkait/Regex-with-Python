{
 "cells": [
  {
   "cell_type": "code",
   "execution_count": 1,
   "metadata": {},
   "outputs": [],
   "source": [
    "import re"
   ]
  },
  {
   "cell_type": "code",
   "execution_count": 2,
   "metadata": {},
   "outputs": [],
   "source": [
    "with open(r'logs.txt') as f:\n",
    "    string = f.read()"
   ]
  },
  {
   "cell_type": "code",
   "execution_count": 3,
   "metadata": {},
   "outputs": [
    {
     "data": {
      "text/plain": [
       "'ï»¿Level Date and Time Source Event ID Task Category\\nCritical 1/27/2020 8:19:22 AM Microsoft-Windows-Kernel-Power 41 (63) The system has rebooted without cleanly shutting down first. This error could be caused if the system stopped responding, crashed, or lost power unexpectedly.\\nCritical 1/26/2020 10:09:54 AM Microsoft-Windows-Kernel-Power 41 (63) The system has rebooted without cleanly shutting down first. This error could be caused if the system stopped responding, crashed, or lost power unexpectedly.\\nCritical 1/25/2020 10:12:58 AM Microsoft-Windows-Kernel-Power 41 (63) The system has rebooted without cleanly shutting down first. This error could be caused if the system stopped responding, crashed, or lost power unexpectedly.\\nError 1/25/2020 10:03:44 AM Microsoft-Windows-WER-SystemErrorReporting 1001 None The computer has rebooted from a bugcheck.  The bugcheck was: 0x0000009f (0x0000000000000003, 0xffff810ec8c31060, 0xfffff80716e687b0, 0xffff810ed30e3c20). A dump was saved in: C:\\\\WINDOWS\\\\MEMORY.DMP. Report Id: 7fcfb77c-e4b0-4e3b-b4c7-af9dafdafc7f.\\nError 1/25/2020 10:03:29 AM TPM 15 None The device driver for the Trusted Platform Module (TPM) encountered a non-recoverable error in the TPM hardware, which prevents TPM services (such as data encryption) from being used. For further help, please contact the computer manufacturer.\\nCritical 1/25/2020 10:03:28 AM Microsoft-Windows-Kernel-Power 41 (63) The system has rebooted without cleanly shutting down first. This error could be caused if the system stopped responding, crashed, or lost power unexpectedly.\\nCritical 1/24/2020 8:04:10 AM Microsoft-Windows-Kernel-Power 41 (63) The system has rebooted without cleanly shutting down first. This error could be caused if the system stopped responding, crashed, or lost power unexpectedly.\\nError 1/24/2020 8:04:08 AM Microsoft-Windows-Kernel-Boot 29 None Windows failed fast startup with error status 0xC0000001.\\nError 1/23/2020 11:53:41 PM Microsoft-Windows-DistributedCOM 10010 None The server {4AA0A5C4-1B9B-4F2E-99D7-99C6AEC83474} did not register with DCOM within the required timeout.\\nCritical 1/23/2020 7:59:27 AM Microsoft-Windows-Kernel-Power 41 (63) The system has rebooted without cleanly shutting down first. This error could be caused if the system stopped responding, crashed, or lost power unexpectedly.\\nError 1/23/2020 7:59:33 AM EventLog 6008 None The previous system shutdown at 12:10:13 AM on â€Ž1/â€Ž23/â€Ž2020 was unexpected.\\nError 1/23/2020 7:59:25 AM Microsoft-Windows-Kernel-Boot 29 None Windows failed fast startup with error status 0xC0000001.\\nError 1/23/2020 12:19:14 AM Microsoft-Windows-DistributedCOM 10010 None The server {4AA0A5C4-1B9B-4F2E-99D7-99C6AEC83474} did not register with DCOM within the required timeout.\\nCritical 1/22/2020 7:40:49 AM Microsoft-Windows-Kernel-Power 41 (63) The system has rebooted without cleanly shutting down first. This error could be caused if the system stopped responding, crashed, or lost power unexpectedly.\\nError 1/22/2020 7:40:46 AM Microsoft-Windows-Kernel-Boot 29 None Windows failed fast startup with error status 0xC0000001.\\nError 1/22/2020 7:40:55 AM EventLog 6008 None The previous system shutdown at 11:50:39 PM on â€Ž1/â€Ž21/â€Ž2020 was unexpected.\\nError 1/22/2020 12:03:05 AM Microsoft-Windows-DistributedCOM 10010 None The server {4AA0A5C4-1B9B-4F2E-99D7-99C6AEC83474} did not register with DCOM within the required timeout.\\nError 1/21/2020 8:31:51 AM Service Control Manager 7000 None \"The Steam Client Service service failed to start due to the following error: \\nThe service did not respond to the start or control request in a timely fashion.\"\\nError 1/21/2020 8:31:51 AM Service Control Manager 7009 None A timeout was reached (30000 milliseconds) while waiting for the Steam Client Service service to connect.\\nError 1/21/2020 8:31:39 AM Tcpip 4207 None The IPv6 TCP/IP interface with index 13 failed to bind to its provider.\\nError 1/21/2020 8:30:48 AM Microsoft-Windows-WER-SystemErrorReporting 1001 None The computer has rebooted from a bugcheck.  The bugcheck was: 0x0000009f (0x0000000000000003, 0xffffb8870de1f060, 0xffffb58e3fa3f7b0, 0xffffb88716aad010). A dump was saved in: C:\\\\WINDOWS\\\\MEMORY.DMP. Report Id: d5492e55-b096-4be9-8946-79606b0b7df2.\\nError 1/21/2020 8:30:34 AM TPM 15 None The device driver for the Trusted Platform Module (TPM) encountered a non-recoverable error in the TPM hardware, which prevents TPM services (such as data encryption) from being used. For further help, please contact the computer manufacturer.\\nCritical 1/21/2020 8:30:30 AM Microsoft-Windows-Kernel-Power 41 (63) The system has rebooted without cleanly shutting down first. This error could be caused if the system stopped responding, crashed, or lost power unexpectedly.\\nError 1/21/2020 8:30:28 AM Microsoft-Windows-Kernel-Boot 29 None Windows failed fast startup with error status 0xC0000001.\\nError 1/21/2020 8:30:39 AM EventLog 6008 None The previous system shutdown at 11:55:06 PM on â€Ž1/â€Ž20/â€Ž2020 was unexpected.\\nError 1/20/2020 10:56:01 AM Tcpip 4207 None The IPv6 TCP/IP interface with index 13 failed to bind to its provider.\\nError 1/20/2020 10:56:01 AM Tcpip 4207 None The IPv4 TCP/IP interface with index 13 failed to bind to its provider.\\nError 1/20/2020 10:55:24 AM TPM 15 None The device driver for the Trusted Platform Module (TPM) encountered a non-recoverable error in the TPM hardware, which prevents TPM services (such as data encryption) from being used. For further help, please contact the computer manufacturer.\\nCritical 1/20/2020 10:55:22 AM Microsoft-Windows-Kernel-Power 41 (63) The system has rebooted without cleanly shutting down first. This error could be caused if the system stopped responding, crashed, or lost power unexpectedly.\\nCritical 1/20/2020 8:41:34 AM Microsoft-Windows-Kernel-Power 41 (63) The system has rebooted without cleanly shutting down first. This error could be caused if the system stopped responding, crashed, or lost power unexpectedly.\\nError 1/19/2020 4:23:56 PM Tcpip 4207 None The IPv6 TCP/IP interface with index 13 failed to bind to its provider.\\nError 1/19/2020 4:23:38 PM Microsoft-Windows-WER-SystemErrorReporting 1001 None The computer has rebooted from a bugcheck.  The bugcheck was: 0x0000009f (0x0000000000000003, 0xffff9588ada3f060, 0xfffff80082e687b0, 0xffff9588b8778c30). A dump was saved in: C:\\\\WINDOWS\\\\MEMORY.DMP. Report Id: cea4bd76-9e35-4798-9ea7-6c027be9f1ef.\\nError 1/19/2020 4:23:05 PM TPM 15 None The device driver for the Trusted Platform Module (TPM) encountered a non-recoverable error in the TPM hardware, which prevents TPM services (such as data encryption) from being used. For further help, please contact the computer manufacturer.\\nCritical 1/19/2020 4:23:04 PM Microsoft-Windows-Kernel-Power 41 (63) The system has rebooted without cleanly shutting down first. This error could be caused if the system stopped responding, crashed, or lost power unexpectedly.\\nError 1/19/2020 4:23:01 PM Microsoft-Windows-Kernel-Boot 29 None Windows failed fast startup with error status 0xC0000001.\\nError 1/19/2020 4:23:10 PM EventLog 6008 None The previous system shutdown at 5:15:31 PM on â€Ž1/â€Ž17/â€Ž2020 was unexpected.\\nError 1/17/2020 7:56:41 AM Tcpip 4207 None The IPv6 TCP/IP interface with index 13 failed to bind to its provider.\\nError 1/17/2020 7:55:40 AM Microsoft-Windows-WER-SystemErrorReporting 1001 None The computer has rebooted from a bugcheck.  The bugcheck was: 0x0000009f (0x0000000000000003, 0xffffb40fae2b4060, 0xfffff80641e687b0, 0xffffb40fb601b260). A dump was saved in: C:\\\\WINDOWS\\\\MEMORY.DMP. Report Id: e879c596-b5c3-422f-a6ad-3718b06c410e.\\nError 1/17/2020 7:55:26 AM TPM 15 None The device driver for the Trusted Platform Module (TPM) encountered a non-recoverable error in the TPM hardware, which prevents TPM services (such as data encryption) from being used. For further help, please contact the computer manufacturer.\\nCritical 1/17/2020 7:55:24 AM Microsoft-Windows-Kernel-Power 41 (63) The system has rebooted without cleanly shutting down first. This error could be caused if the system stopped responding, crashed, or lost power unexpectedly.\\nError 1/16/2020 9:34:28 AM Tcpip 4207 None The IPv6 TCP/IP interface with index 13 failed to bind to its provider.\\nError 1/16/2020 9:32:59 AM Microsoft-Windows-WER-SystemErrorReporting 1001 None The computer has rebooted from a bugcheck.  The bugcheck was: 0x0000009f (0x0000000000000003, 0xffffad0ab1852060, 0xffffac070e03f7b0, 0xffffad0ab47819a0). A dump was saved in: C:\\\\WINDOWS\\\\MEMORY.DMP. Report Id: 5203e737-299c-40bd-aeb2-13e3c9f010c0.\\nError 1/16/2020 9:32:45 AM TPM 15 None The device driver for the Trusted Platform Module (TPM) encountered a non-recoverable error in the TPM hardware, which prevents TPM services (such as data encryption) from being used. For further help, please contact the computer manufacturer.\\nCritical 1/16/2020 9:32:44 AM Microsoft-Windows-Kernel-Power 41 (63) The system has rebooted without cleanly shutting down first. This error could be caused if the system stopped responding, crashed, or lost power unexpectedly.\\nError 1/15/2020 3:34:14 PM TPM 15 None The device driver for the Trusted Platform Module (TPM) encountered a non-recoverable error in the TPM hardware, which prevents TPM services (such as data encryption) from being used. For further help, please contact the computer manufacturer.\\nError 1/15/2020 7:17:10 AM VBoxNetLwf 12 None The driver detected an internal driver error on \\\\Device\\\\VBoxNetLwf.\\nCritical 1/15/2020 7:17:10 AM Microsoft-Windows-Kernel-Power 41 (63) The system has rebooted without cleanly shutting down first. This error could be caused if the system stopped responding, crashed, or lost power unexpectedly.\\nCritical 1/14/2020 6:49:47 AM Microsoft-Windows-Kernel-Power 41 (63) The system has rebooted without cleanly shutting down first. This error could be caused if the system stopped responding, crashed, or lost power unexpectedly.'"
      ]
     },
     "execution_count": 3,
     "metadata": {},
     "output_type": "execute_result"
    }
   ],
   "source": [
    "string"
   ]
  },
  {
   "cell_type": "markdown",
   "metadata": {},
   "source": [
    "#### All the log entries that are critical and which were generated between 11th and 16th day of January,2020 and extract the source part of each entry."
   ]
  },
  {
   "cell_type": "code",
   "execution_count": 14,
   "metadata": {},
   "outputs": [
    {
     "data": {
      "text/plain": [
       "['Microsoft-Windows-Kernel-Power',\n",
       " 'Microsoft-Windows-Kernel-Power',\n",
       " 'Microsoft-Windows-Kernel-Power']"
      ]
     },
     "execution_count": 14,
     "metadata": {},
     "output_type": "execute_result"
    }
   ],
   "source": [
    "result = re.findall(r\"Critical 1/1[1-6]/2020 .+? [AP]M (.+?) \\d+ .+?\", string)\n",
    "result"
   ]
  },
  {
   "cell_type": "markdown",
   "metadata": {},
   "source": [
    "#### Source substring of all log entries that were generated after 12pm and before 4pm"
   ]
  },
  {
   "cell_type": "code",
   "execution_count": 18,
   "metadata": {},
   "outputs": [
    {
     "data": {
      "text/plain": [
       "['TPM']"
      ]
     },
     "execution_count": 18,
     "metadata": {},
     "output_type": "execute_result"
    }
   ],
   "source": [
    "result = re.findall(r\".+ [1-3][2]?:[0-5][0-9]:[0-5][0-9] PM (.+?) \\d+ .+?\", string)\n",
    "result"
   ]
  },
  {
   "cell_type": "markdown",
   "metadata": {},
   "source": [
    "#### Date of all log entries that have 'TPM' as the source of log message"
   ]
  },
  {
   "cell_type": "code",
   "execution_count": 20,
   "metadata": {},
   "outputs": [
    {
     "data": {
      "text/plain": [
       "['1/25/2020',\n",
       " '1/21/2020',\n",
       " '1/20/2020',\n",
       " '1/19/2020',\n",
       " '1/17/2020',\n",
       " '1/16/2020',\n",
       " '1/15/2020']"
      ]
     },
     "execution_count": 20,
     "metadata": {},
     "output_type": "execute_result"
    }
   ],
   "source": [
    "result = re.findall(r\".+ (.+?) .+ [AP]M TPM \\d+ .+?\", string)\n",
    "result"
   ]
  },
  {
   "cell_type": "markdown",
   "metadata": {},
   "source": [
    "#### Date and Time of all log entries that have been generated between 24th and 27th of January 2020 and between 8:00:00 and 8:59:59am"
   ]
  },
  {
   "cell_type": "code",
   "execution_count": 22,
   "metadata": {},
   "outputs": [
    {
     "data": {
      "text/plain": [
       "['1/27/2020 8:19:22', '1/24/2020 8:04:10', '1/24/2020 8:04:08']"
      ]
     },
     "execution_count": 22,
     "metadata": {},
     "output_type": "execute_result"
    }
   ],
   "source": [
    "result = re.findall(r\".+ (1/2[4-7]/2020 8:[0-5][0-9]:[0-5][0-9]) AM .+?\", string)\n",
    "result"
   ]
  },
  {
   "cell_type": "code",
   "execution_count": null,
   "metadata": {},
   "outputs": [],
   "source": []
  }
 ],
 "metadata": {
  "kernelspec": {
   "display_name": "Python [conda env:mlEnv]",
   "language": "python",
   "name": "conda-env-mlEnv-py"
  },
  "language_info": {
   "codemirror_mode": {
    "name": "ipython",
    "version": 3
   },
   "file_extension": ".py",
   "mimetype": "text/x-python",
   "name": "python",
   "nbconvert_exporter": "python",
   "pygments_lexer": "ipython3",
   "version": "3.8.5"
  }
 },
 "nbformat": 4,
 "nbformat_minor": 4
}
